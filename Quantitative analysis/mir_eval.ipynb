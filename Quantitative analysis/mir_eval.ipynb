{
 "cells": [
  {
   "cell_type": "code",
   "execution_count": 137,
   "id": "30eeb87f-761c-4a84-9a03-71bd22c1fbb1",
   "metadata": {},
   "outputs": [],
   "source": [
    "import numpy as np\n",
    "import mir_eval\n",
    "import collections\n",
    "import json\n",
    "import os, os.path\n",
    "import csv\n",
    "from statistics import mean"
   ]
  },
  {
   "cell_type": "code",
   "execution_count": 112,
   "id": "f6988cde-278b-413a-bc02-41d07091db30",
   "metadata": {},
   "outputs": [],
   "source": [
    "# load data\n",
    "notes_path = 'Notes'\n",
    "results_path = 'Results'\n",
    "songtitle = 'Kumushki_last7'\n",
    "transcriber1 = 'PP'\n",
    "transcriber2 = 'OV'\n",
    "notes_prefix = os.path.join(notes_path, 'notes_')\n",
    "filename = 'Notes/notes_Kumushki_last7_'\n",
    "notes_filename1 = notes_prefix + songtitle + '_' + transcriber1 + '.csv'\n",
    "notes_filename2 = notes_prefix + songtitle + '_' + transcriber2 + '.csv'\n",
    "notes_filenameAUTO = notes_prefix + songtitle + '_' + 'AUTO' + '.csv'\n",
    "if not os.path.isdir(results_path):\n",
    "    os.mkdir(results_path)"
   ]
  },
  {
   "cell_type": "code",
   "execution_count": 113,
   "id": "9a359f6f-a73e-407d-b213-8ae6288e46ef",
   "metadata": {},
   "outputs": [],
   "source": [
    "def load_tony_notes(filename):\n",
    "    tony_notes = np.genfromtxt(filename, delimiter=',', skip_header=0)\n",
    "    onsets = tony_notes[:, 0]\n",
    "    pitches = tony_notes[:, 1]\n",
    "    durations = tony_notes[:, 2]\n",
    "    if min(durations) == 0:\n",
    "        for idx in range(len(duration)):\n",
    "            if durations[idx] == 0:\n",
    "                durations[idx] = 0.00001\n",
    "    offsets = np.sum([onsets, durations],axis=0)\n",
    "    if onsets[0] < 0:\n",
    "        onsets[0] = 0\n",
    "    if offsets[0] <= 0:\n",
    "        offsets[0] = 0.000001\n",
    "    segments = np.array(list(zip(onsets, offsets)))\n",
    "    return segments, pitches"
   ]
  },
  {
   "cell_type": "code",
   "execution_count": 153,
   "id": "0d6c1aee-9d3c-4e13-b76a-c7ec6043cd21",
   "metadata": {},
   "outputs": [],
   "source": [
    "def compare_two_transcriptions(notes_filename1, notes_filename2):\n",
    "    segments1, pitches1 = load_tony_notes(notes_filename1)\n",
    "    segments2, pitches2 = load_tony_notes(notes_filename2)\n",
    "    mir_eval.transcription.validate(segments1, pitches1, segments2, pitches2)\n",
    "    result_dict = mir_eval.transcription.evaluate(segments1, pitches1,  segments2, pitches2)\n",
    "    return result_dict"
   ]
  },
  {
   "cell_type": "code",
   "execution_count": null,
   "id": "b3f99f26-42cb-4c2f-a745-8393df054498",
   "metadata": {},
   "outputs": [],
   "source": [
    "result_dict = compare_two_transcriptions(notes_filename1, notes_filename2)\n",
    "result_dict"
   ]
  },
  {
   "cell_type": "code",
   "execution_count": 116,
   "id": "d1c7d660-dcc3-46f0-9e9b-f72690167ecd",
   "metadata": {},
   "outputs": [],
   "source": [
    "# export json\n",
    "json_outfilename = os.path.join(results_path, songtitle + '_' + transcriber1 + '_' + transcriber2 + '.json')\n",
    "with open(outfilename, 'w+') as outfile:\n",
    "    json.dump(result_dict, outfile, indent=4)"
   ]
  },
  {
   "cell_type": "code",
   "execution_count": 123,
   "id": "5ec0b951-fe80-4568-b7db-fb4662456bae",
   "metadata": {},
   "outputs": [],
   "source": [
    "# export csv\n",
    "csv_outfilename = os.path.join(results_path, songtitle + '_' + transcriber1 + '_' + transcriber2 + '.csv')\n",
    "with open(csv_outfilename, 'w') as csvfile:\n",
    "    csvwriter = csv.writer(csvfile)\n",
    "    for key in result_dict.keys():\n",
    "        csvwriter.writerow([key, result_dict[key]])"
   ]
  },
  {
   "cell_type": "code",
   "execution_count": 158,
   "id": "9c5b2e15-ec51-4899-b906-e621d5158478",
   "metadata": {},
   "outputs": [],
   "source": [
    "# compare two transcriptions and auto\n",
    "def compare_2human_vs_auto(notes_filename1, notes_filename2, notes_filenameAUTO):\n",
    "    result_h1h2 = compare_two_transcriptions(notes_filename1, notes_filename2)\n",
    "    result_h1auto = compare_two_transcriptions(notes_filename1, notes_filenameAUTO)\n",
    "    result_h2auto = compare_two_transcriptions(notes_filename2, notes_filenameAUTO)\n",
    "    csv_outfilename = os.path.join(results_path, songtitle + '_' + transcriber1 + '_' + transcriber2 + '_' + 'AUTO' + '.csv')\n",
    "    with open(csv_outfilename, 'w') as csvfile:\n",
    "        csvwriter = csv.writer(csvfile)\n",
    "        csvwriter.writerow(['',transcriber1 + ' vs ' + transcriber2, transcriber1 + ' vs AUTO', transcriber2 + ' vs AUTO', 'mean H vs AUTO'])\n",
    "        for key in result_h1h2.keys():\n",
    "            csvwriter.writerow([key, round(result_h1h2[key],2), round(result_h1auto[key],2), round(result_h2auto[key],2), round(mean((result_h1auto[key], result_h2auto[key])),2)])"
   ]
  },
  {
   "cell_type": "code",
   "execution_count": 159,
   "id": "84d37a35-2c29-4509-945b-f1e948d57970",
   "metadata": {},
   "outputs": [
    {
     "name": "stdout",
     "output_type": "stream",
     "text": [
      "Lazar10-12_manseg\n",
      "Po zoriushke track 10\n",
      "Lazar1-13\n",
      "Po zoriushke track 04\n",
      "Po zoriushke track 13\n",
      "Kumushki_last7\n",
      "Po zoriushke track 07\n"
     ]
    }
   ],
   "source": [
    "# quantitative analysis for all songs in a folder\n",
    "# each song should have three note files: for each transcriber and automatic\n",
    "# of the form: notes_Kumushki_last7_AUTO.csv\n",
    "# results are saved for each song in the Results/ folder\n",
    "\n",
    "songlist = []\n",
    "for root, dirs, files in os.walk(notes_path):\n",
    "    for filename in files:\n",
    "        if filename.startswith('notes'):\n",
    "            songtitle = filename.replace('notes_', '')\n",
    "            songtitle = songtitle.replace('.csv', '')\n",
    "            songtitle = songtitle.rsplit('_', 1)[0]\n",
    "            if not songtitle in songlist:\n",
    "                songlist.append(songtitle)\n",
    "\n",
    "                notes_filename1 = notes_prefix + songtitle + '_' + transcriber1 + '.csv'\n",
    "                notes_filename2 = notes_prefix + songtitle + '_' + transcriber2 + '.csv'\n",
    "                notes_filenameAUTO = notes_prefix + songtitle + '_' + 'AUTO' + '.csv'\n",
    "                if not os.path.isdir(results_path):\n",
    "                    os.mkdir(results_path)\n",
    "\n",
    "                compare_2human_vs_auto(notes_filename1, notes_filename2, notes_filenameAUTO)\n",
    "\n",
    "            \n"
   ]
  },
  {
   "cell_type": "code",
   "execution_count": null,
   "id": "7f6c4194-2cba-48b1-be72-1167a5efef57",
   "metadata": {},
   "outputs": [],
   "source": []
  }
 ],
 "metadata": {
  "kernelspec": {
   "display_name": "Python 3 (ipykernel)",
   "language": "python",
   "name": "python3"
  },
  "language_info": {
   "codemirror_mode": {
    "name": "ipython",
    "version": 3
   },
   "file_extension": ".py",
   "mimetype": "text/x-python",
   "name": "python",
   "nbconvert_exporter": "python",
   "pygments_lexer": "ipython3",
   "version": "3.7.13"
  }
 },
 "nbformat": 4,
 "nbformat_minor": 5
}
