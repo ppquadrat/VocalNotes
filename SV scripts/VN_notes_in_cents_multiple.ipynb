{
 "cells": [
  {
   "cell_type": "code",
   "execution_count": 436,
   "id": "1c679a28",
   "metadata": {},
   "outputs": [],
   "source": [
    "import numpy as np\n",
    "import pandas as pd\n",
    "from os.path import join as joinpath\n",
    "from math import pow, log \n",
    "from scipy.signal import find_peaks\n",
    "import matplotlib.pyplot as plt"
   ]
  },
  {
   "cell_type": "code",
   "execution_count": 466,
   "id": "1948c44f",
   "metadata": {},
   "outputs": [],
   "source": [
    "notespath_list = \"/Users/polinap/Yandex.Disk.localized/RESEARCH_RU/VOCAL_NOTES_PROJECT/RUSSIAN/ANALYSIS/Da_po_zoriushke_1/PP/Da_po_zoriushke_1__PP__notes.csv\",\\\n",
    "\"/Users/polinap/Yandex.Disk.localized/RESEARCH_RU/VOCAL_NOTES_PROJECT/RUSSIAN/ANALYSIS/Da_po_zoriushke_1/OV/Da_po_zoriushke_1__OV__notes.csv\""
   ]
  },
  {
   "cell_type": "code",
   "execution_count": 438,
   "id": "0f68343b",
   "metadata": {},
   "outputs": [
    {
     "name": "stdout",
     "output_type": "stream",
     "text": [
      "            TIME    VALUE     DURATION\n",
      "0    0.685714286  314.455  0.690793651\n",
      "1    1.442539683  237.279  0.177777778\n",
      "2    1.620317460  236.325  0.391111111\n",
      "3    2.011428571  352.063  0.421587302\n",
      "4    2.438095238  320.555  0.126984127\n",
      "..           ...      ...          ...\n",
      "63  32.153832200  352.063  0.259047619\n",
      "64  37.445079365  323.620  1.272380952\n",
      "65  38.717460317  358.461  1.033650794\n",
      "66  39.756190476  356.816  0.245986395\n",
      "67  40.002176871  359.802  0.571791383\n",
      "\n",
      "[68 rows x 3 columns]\n",
      "            TIME    VALUE     DURATION\n",
      "0    0.757551020  314.404  0.635646259\n",
      "1    1.469387755  237.391  0.191564626\n",
      "2    1.660952381  236.258  0.398367347\n",
      "3    2.065850340  349.713  0.387482993\n",
      "4    2.455510204  307.765  0.124081633\n",
      "..           ...      ...          ...\n",
      "68  37.437460317  294.470  0.149841270\n",
      "69  37.587301587  323.857  1.092063492\n",
      "70  38.679365079  358.324  1.069206349\n",
      "71  39.816417234  356.816  0.156734694\n",
      "72  40.054421769  359.802  0.516643991\n",
      "\n",
      "[73 rows x 3 columns]\n"
     ]
    }
   ],
   "source": [
    "def read_from_csv(notespath):\n",
    "    notes = pd.read_csv(notespath, header=None) # doesn't read headers\n",
    "\n",
    "    # remove columns beyond the first three\n",
    "    if len(notes.columns) > 3:\n",
    "        notes = notes.iloc[:,:3]\n",
    "\n",
    "    # remove headers\n",
    "    if notes.iloc[0,0]==\"TIME\":\n",
    "        notes = notes.iloc[1:,:]\n",
    "        notes.reset_index(drop=True, inplace=True)\n",
    "\n",
    "    notes.columns = ['TIME', 'VALUE', 'DURATION']\n",
    "    \n",
    "    notes['VALUE'] = notes['VALUE'].astype(float)\n",
    "\n",
    "    return notes\n",
    "\n",
    "notes_list = []\n",
    "pitches_list = []\n",
    "durations_list = []\n",
    "for notespath in notespath_list:\n",
    "    notes = read_from_csv(notespath)\n",
    "    notes_list.append(notes)\n",
    "    pitches_list.append(notes['VALUE'].astype(float).to_numpy())\n",
    "    durations_list.append(notes['DURATION'].astype(float).to_numpy())"
   ]
  },
  {
   "cell_type": "code",
   "execution_count": 439,
   "id": "e4f7aff8",
   "metadata": {},
   "outputs": [
    {
     "name": "stdout",
     "output_type": "stream",
     "text": [
      "longest note frequency:  323.62\n"
     ]
    }
   ],
   "source": [
    "# calculate the tonal centre for a joint of both transcriptions\n",
    "note_pitch_array = np.concatenate(pitches_list)\n",
    "note_dur_array = np.concatenate(durations_list)\n",
    "\n",
    "# get the last occurence of the longest note - the first approximation for the tonal centre\n",
    "durations_reversed = note_dur_array[::-1]\n",
    "longest_note_idx = len(durations_reversed) - np.argmax(durations_reversed) - 1\n",
    "longest_note_pitch = note_pitch_array[longest_note_idx]\n",
    "print(\"longest note frequency: \", longest_note_pitch)\n",
    "\n",
    "# convert note pitches into cents relative to the longest note pitch\n",
    "def pitch2cent(hertz_from, hertz_to):\n",
    "    # hertz_from > hertz_to will return a negative value\n",
    "    return round(1200*log(hertz_to/hertz_from,2))\n",
    "\n",
    "def pitch2interval_func(tonal_centre):\n",
    "    # construct a function which takes a pitch and returns the interval to tonal centre\n",
    "    return lambda pitch: pitch2cent(tonal_centre, pitch)\n",
    "\n",
    "pitch2interval = pitch2interval_func(longest_note_pitch) # this function only has one argument\n",
    "pitch2interval_v = np.vectorize(pitch2interval) # vectorise to be able to apply to each element of an array\n",
    "note_cents_array = pitch2interval_v(note_pitch_array)"
   ]
  },
  {
   "cell_type": "code",
   "execution_count": 440,
   "id": "ce1df1ee",
   "metadata": {},
   "outputs": [],
   "source": [
    "# find histogram peak of notes in cents - a better approximation of the tonal centre\n",
    "mybins = 60\n",
    "h, hedges = np.histogram(note_cents_array, bins=mybins)"
   ]
  },
  {
   "cell_type": "code",
   "execution_count": 441,
   "id": "64c25262",
   "metadata": {},
   "outputs": [
    {
     "data": {
      "image/png": "[encoded data removed]",
      "text/plain": [
       "<Figure size 432x288 with 1 Axes>"
      ]
     },
     "metadata": {
      "needs_background": "light"
     },
     "output_type": "display_data"
    }
   ],
   "source": [
    "# plot the histogram for the join of both transcriptions\n",
    "plt.bar(hedges[:-1],h, width=10, align='edge')\n",
    "plt.show()"
   ]
  },
  {
   "cell_type": "code",
   "execution_count": 442,
   "id": "718e7daf",
   "metadata": {},
   "outputs": [
    {
     "name": "stdout",
     "output_type": "stream",
     "text": [
      "estimated tonal centre:  144.73333333333335  cents from the longest note\n",
      "estimated tonal centre frequency:  351.8381397480538\n"
     ]
    }
   ],
   "source": [
    "peaks, _ = find_peaks(h, distance=5, prominence=2)\n",
    "estimated_tonal_centre = hedges[peaks[h[peaks].argmax()]]\n",
    "estimated_tonal_centre_pitch = pow(2, estimated_tonal_centre/1200)*longest_note_pitch\n",
    "print(\"estimated tonal centre: \", estimated_tonal_centre, \" cents from the longest note\")\n",
    "print(\"estimated tonal centre frequency: \", estimated_tonal_centre_pitch)"
   ]
  },
  {
   "cell_type": "code",
   "execution_count": 443,
   "id": "3df66820",
   "metadata": {},
   "outputs": [
    {
     "name": "stdout",
     "output_type": "stream",
     "text": [
      "tonal centre frequency:  351.8381397480538\n"
     ]
    }
   ],
   "source": [
    "# change the tonal centre if needed\n",
    "tonal_centre_frequency = estimated_tonal_centre_pitch\n",
    "print(\"tonal centre frequency: \", tonal_centre_frequency)\n",
    "tonal_centre_cents = pitch2cent(longest_note_pitch, tonal_centre_frequency)\n",
    "\n",
    "# recalculate notes relative to the new tonal centre\n",
    "note_cents_array = note_cents_array - tonal_centre_cents\n"
   ]
  },
  {
   "cell_type": "code",
   "execution_count": 444,
   "id": "3ec4e551",
   "metadata": {},
   "outputs": [],
   "source": [
    "# substitute note frequencies by notes in cents in the dataframes\n",
    "for notes, pitches in zip(notes_list, pitches_list):\n",
    "    cents = note_cents_array[0:len(pitches)]\n",
    "    notes['VALUE'] = pd.Series(cents)\n",
    "    note_cents_array = note_cents_array[len(pitches):]"
   ]
  },
  {
   "cell_type": "code",
   "execution_count": 445,
   "id": "05bcb13c",
   "metadata": {},
   "outputs": [],
   "source": [
    "# write to file\n",
    "tc_string = str('%.2f' %tonal_centre_frequency)\n",
    "\n",
    "for notes, notespath in zip(notes_list, notespath_list):\n",
    "    fileout = notespath.replace(\"notes\", \"notes_cents_tc\"+tc_string)\n",
    "    notes.to_csv(fileout, index = False)"
   ]
  },
  {
   "cell_type": "code",
   "execution_count": 446,
   "id": "15e7c19a",
   "metadata": {},
   "outputs": [],
   "source": [
    "# convert segments files into cents\n",
    "#segmentspath1 = notespath1.replace(\"notes\", \"segments\")\n",
    "segmentspath_list = [x.replace(\"notes\", \"segments\") for x in notespath_list]\n",
    "\n",
    "segments_list = []\n",
    "for segmentspath in segmentspath_list:\n",
    "    segments = read_from_csv(segmentspath)\n",
    "    segments_list.append(segments)\n",
    "\n",
    "pitch2interval = pitch2interval_func(tonal_centre_frequency)\n",
    "for segments in segments_list:\n",
    "    segments['VALUE'] = segments.VALUE.map(pitch2interval)\n",
    "    \n",
    "for segments, segmentspath in zip(segments_list, segmentspath_list):\n",
    "    fileout = segmentspath.replace(\"segments\", \"segments_cents_tc\"+tc_string)\n",
    "    segments.to_csv(fileout, index = False)"
   ]
  },
  {
   "cell_type": "code",
   "execution_count": 465,
   "id": "7adf0a83",
   "metadata": {},
   "outputs": [],
   "source": [
    "notes_list = []\n",
    "for notespath in notespath_list:\n",
    "    notes = read_from_csv(notespath)\n",
    "    notes_list.append(notes)\n",
    "\n",
    "segments_list = []\n",
    "for segmentspath in segmentspath_list:\n",
    "    segments = read_from_csv(segmentspath)\n",
    "    segments_list.append(segments)\n",
    "    \n",
    "for notes, segments, notespath in zip(notes_list, segments_list, notespath_list):\n",
    "    note_pitches = notes['VALUE'].astype(float).to_numpy()\n",
    "    segment_pitches = segments['VALUE'].astype(float).to_numpy()\n",
    "    \n",
    "    # transform to cents\n",
    "    pitch2interval = pitch2interval_func(tonal_centre_frequency)\n",
    "    pitch2interval_v = np.vectorize(pitch2interval) \n",
    "    note_cents = pitch2interval_v(note_pitches)\n",
    "    segment_cents = pitch2interval_v(segment_pitches)\n",
    "\n",
    "    # record original value where it was corrected by at least 50 cents\n",
    "    cents_diff = np.absolute(note_cents - segment_cents)\n",
    "    diff_func = cents_diff\n",
    "    diff_func[np.where(cents_diff<=49)]=0\n",
    "    diff_func[np.where(cents_diff>49)]=1\n",
    "    changed_pitches = segment_pitches * diff_func # original value where changed, 0 otherwise\n",
    "    changed_cents = segment_cents * diff_func\n",
    "    \n",
    "    # save\n",
    "    changed_pitches_df = notes\n",
    "    changed_pitches_df['VALUE'] = pd.Series(changed_pitches)\n",
    "    changed_pitches_df=changed_pitches_df[changed_pitches_df['VALUE'] > 0]\n",
    "    fileout_pitches = notespath.replace(\"notes\", \"changed_pitches\")\n",
    "    changed_pitches_df.to_csv(fileout_pitches, index = False)\n",
    "    \n",
    "    changed_cents_df = segments\n",
    "    changed_cents_df['VALUE'] = pd.Series(changed_cents)\n",
    "    changed_cents_df=changed_cents_df[changed_cents_df['VALUE'] != 0]\n",
    "    fileout_cents = notespath.replace(\"notes\", \"changed_cents\")\n",
    "    changed_cents_df.to_csv(fileout_cents, index = False)"
   ]
  },
  {
   "cell_type": "code",
   "execution_count": null,
   "id": "48fee29d",
   "metadata": {},
   "outputs": [],
   "source": []
  }
 ],
 "metadata": {
  "kernelspec": {
   "display_name": "Python 3 (ipykernel)",
   "language": "python",
   "name": "python3"
  },
  "language_info": {
   "codemirror_mode": {
    "name": "ipython",
    "version": 3
   },
   "file_extension": ".py",
   "mimetype": "text/x-python",
   "name": "python",
   "nbconvert_exporter": "python",
   "pygments_lexer": "ipython3",
   "version": "3.7.13"
  }
 },
 "nbformat": 4,
 "nbformat_minor": 5
}
