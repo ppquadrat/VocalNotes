{
 "cells": [
  {
   "cell_type": "code",
   "execution_count": 102,
   "id": "3922e773",
   "metadata": {},
   "outputs": [],
   "source": [
    "import numpy as np\n",
    "import mir_eval\n",
    "import collections\n",
    "import json\n",
    "from os.path import join as joinpath\n",
    "import csv\n",
    "from statistics import mean\n",
    "import pandas as pd"
   ]
  },
  {
   "cell_type": "code",
   "execution_count": 103,
   "id": "aa3a1114",
   "metadata": {},
   "outputs": [],
   "source": [
    "path = \"/Users/polinap/Yandex.Disk.localized/RESEARCH_RU/VOCAL_NOTES_PROJECT/RUSSIAN/ANALYSIS/\"\n",
    "song = \"Da_po_zoriushke_1\"\n",
    "transcriber_list = [\"PP\", \"OV\"]\n",
    "divider = \"__\"\n",
    "outfile = \"howmanynotes.csv\""
   ]
  },
  {
   "cell_type": "code",
   "execution_count": 104,
   "id": "d3065901",
   "metadata": {},
   "outputs": [
    {
     "data": {
      "text/plain": [
       "['/Users/polinap/Yandex.Disk.localized/RESEARCH_RU/VOCAL_NOTES_PROJECT/RUSSIAN/ANALYSIS/Da_po_zoriushke_1/PP/Da_po_zoriushke_1__PP__notes.csv',\n",
       " '/Users/polinap/Yandex.Disk.localized/RESEARCH_RU/VOCAL_NOTES_PROJECT/RUSSIAN/ANALYSIS/Da_po_zoriushke_1/OV/Da_po_zoriushke_1__OV__notes.csv']"
      ]
     },
     "execution_count": 104,
     "metadata": {},
     "output_type": "execute_result"
    }
   ],
   "source": [
    "notespath_list = []\n",
    "for transcriber in transcriber_list:\n",
    "    filename = song + divider + transcriber + divider + 'notes.csv'\n",
    "    notespath = joinpath(path,song,transcriber,filename)\n",
    "    notespath_list.append(notespath)\n",
    "notespath_list"
   ]
  },
  {
   "cell_type": "code",
   "execution_count": 105,
   "id": "2a4ff89f",
   "metadata": {},
   "outputs": [],
   "source": [
    "def read_from_csv(notespath):\n",
    "    notes = pd.read_csv(notespath, header=None) # doesn't read headers\n",
    "\n",
    "    # remove columns beyond the first three\n",
    "    if len(notes.columns) > 3:\n",
    "        notes = notes.iloc[:,:3]\n",
    "\n",
    "    # remove headers\n",
    "    if notes.iloc[0,0]==\"TIME\":\n",
    "        notes = notes.iloc[1:,:]\n",
    "        notes.reset_index(drop=True, inplace=True)\n",
    "\n",
    "    notes.columns = ['TIME', 'VALUE', 'DURATION']\n",
    "    \n",
    "    notes['VALUE'] = notes['VALUE'].astype(float)\n",
    "    if all(notes['VALUE']%1==0):        # all integers\n",
    "        notes['VALUE'] = notes['VALUE'].astype(int)\n",
    "\n",
    "    return notes"
   ]
  },
  {
   "cell_type": "code",
   "execution_count": 106,
   "id": "6510ca57",
   "metadata": {},
   "outputs": [],
   "source": [
    "notes_list = []\n",
    "onsets_list = []\n",
    "pitches_list = []\n",
    "segments_list = []\n",
    "for notespath in notespath_list:\n",
    "    notes = read_from_csv(notespath)\n",
    "    notes_list.append(notes)\n",
    "    onsets = notes['TIME'].astype(float).to_numpy()\n",
    "    pitches = notes['VALUE'].astype(float).to_numpy()\n",
    "    \n",
    "    durations = notes['DURATION'].astype(float).to_numpy()\n",
    "    if min(durations) == 0:\n",
    "        for idx in range(len(duration)):\n",
    "            if durations[idx] == 0:\n",
    "                durations[idx] = 0.00001\n",
    "                \n",
    "    offsets = np.sum([onsets, durations],axis=0)\n",
    "    if onsets[0] < 0:\n",
    "        onsets[0] = 0\n",
    "    if offsets[0] <= 0:\n",
    "        offsets[0] = 0.000001\n",
    "    segments = np.array(list(zip(onsets, offsets)))\n",
    "    \n",
    "    onsets_list.append(onsets)\n",
    "    pitches_list.append(pitches)\n",
    "    segments_list.append(segments)"
   ]
  },
  {
   "cell_type": "code",
   "execution_count": 107,
   "id": "2ef258c5",
   "metadata": {},
   "outputs": [
    {
     "name": "stdout",
     "output_type": "stream",
     "text": [
      "[(0, 0), (1, 1), (2, 2), (3, 3), (4, 4), (5, 5), (6, 6), (7, 7), (8, 8), (9, 9), (10, 10), (11, 11), (12, 12), (13, 13), (14, 14), (15, 15), (16, 16), (17, 17), (18, 18), (19, 19), (20, 20), (21, 21), (22, 22), (23, 23), (24, 24), (25, 25), (26, 27), (27, 28), (28, 29), (29, 30), (30, 31), (31, 32), (32, 33), (33, 34), (34, 35), (35, 36), (36, 37), (37, 38), (38, 39), (39, 40), (40, 41), (41, 42), (42, 43), (43, 44), (44, 45), (45, 46), (46, 47), (47, 48), (48, 49), (49, 50), (50, 51), (51, 52), (52, 53), (53, 54), (54, 55), (55, 56), (56, 57), (57, 58), (58, 59), (59, 60), (60, 61), (61, 64), (62, 65), (63, 66), (64, 67), (65, 68), (66, 69), (67, 71), (68, 72), (69, 73)]\n"
     ]
    }
   ],
   "source": [
    "mir_eval.transcription.validate(segments_list[0], pitches_list[0], segments_list[1], pitches_list[1])\n",
    "matched_onsets = mir_eval.transcription.match_note_onsets(segments_list[0], segments_list[1], onset_tolerance=1, strict=False)\n",
    "#matched_notes = mir_eval.transcription.match_notes(segments_list[0], pitches_list[0], segments_list[1], pitches_list[1])\n",
    "print(matched_onsets)"
   ]
  },
  {
   "cell_type": "code",
   "execution_count": 108,
   "id": "1e9237ab",
   "metadata": {},
   "outputs": [],
   "source": [
    "alignment = [(0,0), (1,1)]\n",
    "clusters = []\n",
    "prev_onset1 = 1\n",
    "prev_onset2 = 1\n",
    "for onset1, onset2 in matched_onsets:\n",
    "    if onset1 >= 2:\n",
    "        if onset2 - onset1 > prev_onset2 - prev_onset1:\n",
    "            clusters.append((prev_onset1, prev_onset2))\n",
    "            for insert in range(prev_onset2+1, onset2):\n",
    "                alignment.append((prev_onset1, insert))\n",
    "                clusters.append((prev_onset1, insert))\n",
    "        if onset2 - onset1 < prev_onset2 - prev_onset1:\n",
    "            clusters.append((prev_onset1, prev_onset2))\n",
    "            for insert in range(prev_onset1+1, onset1):\n",
    "                alignment.append((insert, prev_onset2))\n",
    "                clusters.append((insert, prev_onset2))\n",
    "        alignment.append((onset1, onset2))\n",
    "        prev_onset1 = onset1\n",
    "        prev_onset2 = onset2"
   ]
  },
  {
   "cell_type": "code",
   "execution_count": 109,
   "id": "3315eecf",
   "metadata": {},
   "outputs": [
    {
     "data": {
      "text/plain": [
       "[[8.95600907, 9.687074829999998],\n",
       " [25.153015873, 25.87138322],\n",
       " [37.437460317, 38.717460317]]"
      ]
     },
     "execution_count": 109,
     "metadata": {},
     "output_type": "execute_result"
    }
   ],
   "source": [
    "cluster_segments = []\n",
    "segments1 = segments_list[0]\n",
    "segments2 = segments_list[1]\n",
    "for ind1, ind2 in clusters:\n",
    "    start = min(segments1[ind1][0], segments2[ind2][0])\n",
    "    stop = max(segments1[ind1][1], segments2[ind2][1])\n",
    "    cluster_segments.append([start, stop])\n",
    "ind = len(cluster_segments)-2\n",
    "while ind >= 0:\n",
    "    if cluster_segments[ind][1] >= cluster_segments[ind+1][0]:\n",
    "        cluster_segments[ind][1] = cluster_segments[ind+1][1]\n",
    "        del cluster_segments[ind+1]\n",
    "    ind = ind - 1    \n",
    "cluster_segments"
   ]
  },
  {
   "cell_type": "code",
   "execution_count": 110,
   "id": "489fe44b",
   "metadata": {},
   "outputs": [],
   "source": [
    "df = pd.DataFrame(cluster_segments)"
   ]
  },
  {
   "cell_type": "code",
   "execution_count": 111,
   "id": "611becc7",
   "metadata": {},
   "outputs": [],
   "source": [
    "df.columns = [\"ONSET\", \"OFFSET\"]\n",
    "df[\"DURATION\"] = df['OFFSET'] - df['ONSET']\n",
    "df.columns = [\"ONSET\", \"OFFSET\", \"DURATION\"]\n",
    "df = df[[\"ONSET\", \"DURATION\"]]"
   ]
  },
  {
   "cell_type": "code",
   "execution_count": 112,
   "id": "d7dfab99",
   "metadata": {},
   "outputs": [],
   "source": [
    "outpath = joinpath(path,song,outfile)\n",
    "df.to_csv(outpath, index = False)"
   ]
  },
  {
   "cell_type": "code",
   "execution_count": null,
   "id": "3c7c982c",
   "metadata": {},
   "outputs": [],
   "source": []
  }
 ],
 "metadata": {
  "kernelspec": {
   "display_name": "Python 3 (ipykernel)",
   "language": "python",
   "name": "python3"
  },
  "language_info": {
   "codemirror_mode": {
    "name": "ipython",
    "version": 3
   },
   "file_extension": ".py",
   "mimetype": "text/x-python",
   "name": "python",
   "nbconvert_exporter": "python",
   "pygments_lexer": "ipython3",
   "version": "3.7.13"
  }
 },
 "nbformat": 4,
 "nbformat_minor": 5
}
