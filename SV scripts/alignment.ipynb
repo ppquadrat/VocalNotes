{
 "cells": [
  {
   "cell_type": "code",
   "execution_count": 16,
   "id": "3922e773",
   "metadata": {},
   "outputs": [],
   "source": [
    "import numpy as np\n",
    "import mir_eval\n",
    "import collections\n",
    "import json\n",
    "from os.path import join as joinpath\n",
    "import csv\n",
    "from statistics import mean\n",
    "import pandas as pd"
   ]
  },
  {
   "cell_type": "code",
   "execution_count": 108,
   "id": "aa3a1114",
   "metadata": {},
   "outputs": [],
   "source": [
    "path = \"/Users/polinap/Yandex.Disk.localized/RESEARCH_RU/VOCAL_NOTES_PROJECT/RUSSIAN/ANALYSIS/\"\n",
    "song = \"Da_po_zoriushke_4\"\n",
    "transcriber_list = [\"PP\", \"OV\"]\n",
    "divider = \"__\"\n",
    "outfile = \"howmanynotes.csv\""
   ]
  },
  {
   "cell_type": "code",
   "execution_count": 109,
   "id": "d3065901",
   "metadata": {},
   "outputs": [
    {
     "data": {
      "text/plain": [
       "['/Users/polinap/Yandex.Disk.localized/RESEARCH_RU/VOCAL_NOTES_PROJECT/RUSSIAN/ANALYSIS/Da_po_zoriushke_4/PP/Da_po_zoriushke_4__PP__notes.csv',\n",
       " '/Users/polinap/Yandex.Disk.localized/RESEARCH_RU/VOCAL_NOTES_PROJECT/RUSSIAN/ANALYSIS/Da_po_zoriushke_4/OV/Da_po_zoriushke_4__OV__notes.csv']"
      ]
     },
     "execution_count": 109,
     "metadata": {},
     "output_type": "execute_result"
    }
   ],
   "source": [
    "notespath_list = []\n",
    "for transcriber in transcriber_list:\n",
    "    filename = song + divider + transcriber + divider + 'notes.csv'\n",
    "    notespath = joinpath(path,song,transcriber,filename)\n",
    "    notespath_list.append(notespath)\n",
    "notespath_list"
   ]
  },
  {
   "cell_type": "code",
   "execution_count": 110,
   "id": "2a4ff89f",
   "metadata": {},
   "outputs": [],
   "source": [
    "def read_from_csv(notespath):\n",
    "    notes = pd.read_csv(notespath, header=None) # doesn't read headers\n",
    "\n",
    "    # remove columns beyond the first three\n",
    "    if len(notes.columns) > 3:\n",
    "        notes = notes.iloc[:,:3]\n",
    "\n",
    "    # remove headers\n",
    "    if notes.iloc[0,0]==\"TIME\":\n",
    "        notes = notes.iloc[1:,:]\n",
    "        notes.reset_index(drop=True, inplace=True)\n",
    "\n",
    "    notes.columns = ['TIME', 'VALUE', 'DURATION']\n",
    "    \n",
    "    notes['VALUE'] = notes['VALUE'].astype(float)\n",
    "    if all(notes['VALUE']%1==0):        # all integers\n",
    "        notes['VALUE'] = notes['VALUE'].astype(int)\n",
    "\n",
    "    return notes"
   ]
  },
  {
   "cell_type": "code",
   "execution_count": 111,
   "id": "3c7c982c",
   "metadata": {},
   "outputs": [],
   "source": [
    "def getOverlap(segment1, segment2):\n",
    "    return max(0, min(segment1[1], segment2[1]) - max(segment1[0], segment2[0]))\n",
    "\n",
    "def getOverlapCost(segment1, segment2):\n",
    "    overlap = getOverlap(segment1, segment2)\n",
    "    if overlap == 0:\n",
    "        return 1\n",
    "    len1 = segment1[1] - segment1[0]\n",
    "    len2 = segment2[1] - segment2[0]\n",
    "    return 1 - max(overlap/len1, overlap/len2)\n",
    "\n",
    "def mydtw(series_1, series_2):\n",
    "\tmatrix = np.zeros((len(series_1) + 1, len(series_2) + 1))\n",
    "\tmatrix[0,:] = np.inf\n",
    "\tmatrix[:,0] = np.inf\n",
    "\tmatrix[0,0] = 0\n",
    "\tfor i, vec1 in enumerate(series_1):\n",
    "\t\tfor j, vec2 in enumerate(series_2):\n",
    "\t\t\tcost = getOverlapCost(vec1,vec2)\n",
    "\t\t\tmatrix[i + 1, j + 1] = cost + min(matrix[i, j + 1], matrix[i + 1, j], matrix[i, j])\n",
    "\tmatrix = matrix[1:,1:]\n",
    "\ti = matrix.shape[0] - 1\n",
    "\tj = matrix.shape[1] - 1\n",
    "\tmatches = []\n",
    "\tmappings_series_1 = [list() for v in range(matrix.shape[0])]\n",
    "\tmappings_series_2 = [list() for v in range(matrix.shape[1])]\n",
    "\twhile i > 0 or j > 0:\n",
    "\t\tmatches.append((i, j))\n",
    "\t\tmappings_series_1[i].append(j)\n",
    "\t\tmappings_series_2[j].append(i)\n",
    "\t\toption_diag = matrix[i - 1, j - 1] if i > 0 and j > 0 else np.inf\n",
    "\t\toption_up = matrix[i - 1, j] if i > 0 else np.inf\n",
    "\t\toption_left = matrix[i, j - 1] if j > 0 else np.inf\n",
    "\t\tmove = np.argmin([option_diag, option_up, option_left])\n",
    "\t\tif move == 0:\n",
    "\t\t\ti -= 1\n",
    "\t\t\tj -= 1\n",
    "\t\telif move == 1:\n",
    "\t\t\ti -= 1\n",
    "\t\telse:\n",
    "\t\t\tj -= 1\n",
    "\tmatches.append((0, 0))\n",
    "\tmappings_series_1[0].append(0)\n",
    "\tmappings_series_2[0].append(0)\n",
    "\tmatches.reverse()\n",
    "\tfor mp in mappings_series_1:\n",
    "\t\tmp.reverse()\n",
    "\tfor mp in mappings_series_2:\n",
    "\t\tmp.reverse()\n",
    "\t\n",
    "\treturn matches, mappings_series_1, mappings_series_2"
   ]
  },
  {
   "cell_type": "code",
   "execution_count": 113,
   "id": "6510ca57",
   "metadata": {},
   "outputs": [],
   "source": [
    "notes_list = []\n",
    "onsets_list = []\n",
    "pitches_list = []\n",
    "segments_list = []\n",
    "for notespath in notespath_list:\n",
    "    notes = read_from_csv(notespath)\n",
    "    notes_list.append(notes)\n",
    "    onsets = notes['TIME'].astype(float).to_numpy()\n",
    "    pitches = notes['VALUE'].astype(float).to_numpy()\n",
    "    \n",
    "    durations = notes['DURATION'].astype(float).to_numpy()\n",
    "    if min(durations) == 0:\n",
    "        for idx in range(len(duration)):\n",
    "            if durations[idx] == 0:\n",
    "                durations[idx] = 0.00001\n",
    "                \n",
    "    offsets = np.sum([onsets, durations],axis=0)\n",
    "    if onsets[0] < 0:\n",
    "        onsets[0] = 0\n",
    "    if offsets[0] <= 0:\n",
    "        offsets[0] = 0.000001\n",
    "    segments = np.array(list(zip(onsets, offsets)))\n",
    "    \n",
    "    onsets_list.append(onsets)\n",
    "    pitches_list.append(pitches)\n",
    "    segments_list.append(segments)"
   ]
  },
  {
   "cell_type": "code",
   "execution_count": 114,
   "id": "cde4e83b",
   "metadata": {},
   "outputs": [],
   "source": [
    "matches, mapping_1, mapping_2 = mydtw(segments_list[0], segments_list[1])"
   ]
  },
  {
   "cell_type": "code",
   "execution_count": 115,
   "id": "692db691",
   "metadata": {},
   "outputs": [],
   "source": [
    "cluster_segments = []\n",
    "segments1 = segments_list[0]\n",
    "segments2 = segments_list[1]\n",
    "for idx in range(len(mapping_1)):\n",
    "    if len(mapping_1[idx]) > 1:\n",
    "        start1, stop1 = segments1[idx]\n",
    "        start2 = segments2[mapping_1[idx][0]][0]\n",
    "        stop2 = segments2[mapping_1[idx][-1]][1]\n",
    "        start = min(start1, start2)\n",
    "        stop = max(stop1, stop2)\n",
    "        cluster_segments.append([start, stop])\n",
    "for idx in range(len(mapping_2)):\n",
    "    if len(mapping_2[idx]) > 1:\n",
    "        start1, stop1 = segments2[idx]\n",
    "        start2 = segments1[mapping_2[idx][0]][0]\n",
    "        stop2 = segments1[mapping_2[idx][-1]][1]\n",
    "        start = min(start1, start2)\n",
    "        stop = max(stop1, stop2)\n",
    "        cluster_segments.append([start, stop])"
   ]
  },
  {
   "cell_type": "code",
   "execution_count": 116,
   "id": "489fe44b",
   "metadata": {},
   "outputs": [],
   "source": [
    "df = pd.DataFrame(cluster_segments)"
   ]
  },
  {
   "cell_type": "code",
   "execution_count": 117,
   "id": "611becc7",
   "metadata": {},
   "outputs": [],
   "source": [
    "df.columns = [\"ONSET\", \"OFFSET\"]\n",
    "df[\"DURATION\"] = df['OFFSET'] - df['ONSET']\n",
    "df.columns = [\"ONSET\", \"OFFSET\", \"DURATION\"]\n",
    "df = df[[\"ONSET\", \"DURATION\"]]"
   ]
  },
  {
   "cell_type": "code",
   "execution_count": 118,
   "id": "d7dfab99",
   "metadata": {},
   "outputs": [],
   "source": [
    "outpath = joinpath(path,song,outfile)\n",
    "df.to_csv(outpath, index = False)"
   ]
  },
  {
   "cell_type": "code",
   "execution_count": null,
   "id": "5e01c958",
   "metadata": {},
   "outputs": [],
   "source": []
  },
  {
   "cell_type": "code",
   "execution_count": 44,
   "id": "2ef258c5",
   "metadata": {},
   "outputs": [
    {
     "name": "stdout",
     "output_type": "stream",
     "text": [
      "[(0, 0), (1, 1), (2, 2), (3, 3), (4, 4), (5, 5), (6, 6), (7, 7), (8, 9), (9, 10), (10, 14), (11, 18), (12, 19), (13, 21), (14, 22), (15, 23), (16, 24), (17, 25), (18, 26), (19, 27), (20, 30), (21, 31), (22, 32), (23, 33), (24, 34), (25, 35), (26, 36), (27, 37), (28, 38), (29, 39), (30, 40), (31, 41), (32, 42), (33, 44), (35, 46), (36, 47), (37, 48), (38, 49), (39, 50), (40, 51), (41, 52), (42, 53), (43, 54), (44, 55), (45, 56), (46, 61), (47, 65), (48, 66), (49, 68), (50, 69), (51, 70), (52, 71), (53, 72), (54, 73), (55, 74), (56, 77), (57, 79), (58, 80), (59, 81), (60, 82), (61, 83), (62, 84), (63, 85), (64, 86), (65, 87), (66, 88), (67, 93), (68, 94), (69, 95), (70, 96), (71, 97)]\n"
     ]
    }
   ],
   "source": [
    "mir_eval.transcription.validate(segments_list[0], pitches_list[0], segments_list[1], pitches_list[1])\n",
    "matched_onsets = mir_eval.transcription.match_note_onsets(segments_list[0], segments_list[1], onset_tolerance=0.1, strict=False)\n",
    "#matched_notes = mir_eval.transcription.match_notes(segments_list[0], pitches_list[0], segments_list[1], pitches_list[1])\n",
    "print(matched_onsets)"
   ]
  },
  {
   "cell_type": "code",
   "execution_count": 45,
   "id": "1e9237ab",
   "metadata": {},
   "outputs": [
    {
     "data": {
      "text/plain": [
       "[(7, 7),\n",
       " (7, 8),\n",
       " (9, 10),\n",
       " (9, 11),\n",
       " (9, 12),\n",
       " (9, 13),\n",
       " (10, 14),\n",
       " (10, 15),\n",
       " (10, 16),\n",
       " (10, 17),\n",
       " (12, 19),\n",
       " (12, 20),\n",
       " (19, 27),\n",
       " (19, 28),\n",
       " (19, 29),\n",
       " (32, 42),\n",
       " (32, 43),\n",
       " (45, 56),\n",
       " (45, 57),\n",
       " (45, 58),\n",
       " (45, 59),\n",
       " (45, 60),\n",
       " (46, 61),\n",
       " (46, 62),\n",
       " (46, 63),\n",
       " (46, 64),\n",
       " (48, 66),\n",
       " (48, 67),\n",
       " (55, 74),\n",
       " (55, 75),\n",
       " (55, 76),\n",
       " (56, 77),\n",
       " (56, 78),\n",
       " (66, 88),\n",
       " (66, 89),\n",
       " (66, 90),\n",
       " (66, 91),\n",
       " (66, 92)]"
      ]
     },
     "execution_count": 45,
     "metadata": {},
     "output_type": "execute_result"
    }
   ],
   "source": [
    "alignment = [(0,0), (1,1)]\n",
    "clusters = []\n",
    "prev_onset1 = 1\n",
    "prev_onset2 = 1\n",
    "for onset1, onset2 in matched_onsets:\n",
    "    if onset1 >= 2:\n",
    "        if onset2 - onset1 > prev_onset2 - prev_onset1:\n",
    "            clusters.append((prev_onset1, prev_onset2))\n",
    "            for insert in range(prev_onset2+1, onset2):\n",
    "                alignment.append((prev_onset1, insert))\n",
    "                clusters.append((prev_onset1, insert))\n",
    "        if onset2 - onset1 < prev_onset2 - prev_onset1:\n",
    "            clusters.append((prev_onset1, prev_onset2))\n",
    "            for insert in range(prev_onset1+1, onset1):\n",
    "                alignment.append((insert, prev_onset2))\n",
    "                clusters.append((insert, prev_onset2))\n",
    "        alignment.append((onset1, onset2))\n",
    "        prev_onset1 = onset1\n",
    "        prev_onset2 = onset2\n",
    "clusters"
   ]
  },
  {
   "cell_type": "code",
   "execution_count": 46,
   "id": "3315eecf",
   "metadata": {},
   "outputs": [
    {
     "name": "stdout",
     "output_type": "stream",
     "text": [
      "[[2.016507937, 2.367346939], [2.047346939, 2.402539682], [2.693877551, 3.303424036], [2.693877551, 3.303424036], [2.693877551, 3.303424036], [2.693877551, 3.303424036], [3.213061224, 3.881337868], [3.308843537, 3.881337868], [3.308843537, 3.881337868], [3.308843537, 3.882448979], [4.37877551, 4.623673469], [4.37877551, 4.683900227], [6.533877551, 7.190204082], [6.533877551, 7.190204082], [6.533877551, 7.190204082], [13.319183673, 13.606530612], [13.319183673, 13.606530612], [19.121632653, 19.751111111], [19.121632653, 19.751111111], [19.121632653, 19.751111111], [19.121632653, 19.751111111], [19.121632653, 19.762358276], [19.751111111, 20.290612245], [19.751111111, 20.290612245], [19.751111111, 20.290612245], [19.751111111, 20.292063492], [20.790204082, 21.025306123], [20.790204082, 21.039455782], [22.968163265, 23.255510204], [22.968163265, 23.255510204], [22.968163265, 23.255510204], [23.238095238, 23.542857143], [23.25877551, 23.542857143], [29.082993197, 29.726258503], [29.082993197, 29.726258503], [29.082993197, 29.726258503], [29.082993197, 29.726258503], [29.082993197, 29.768707483]]\n"
     ]
    },
    {
     "data": {
      "text/plain": [
       "[[2.016507937, 2.402539682],\n",
       " [2.693877551, 3.882448979],\n",
       " [4.37877551, 4.683900227],\n",
       " [6.533877551, 7.190204082],\n",
       " [13.319183673, 13.606530612],\n",
       " [19.121632653, 20.292063492],\n",
       " [20.790204082, 21.039455782],\n",
       " [22.968163265, 23.542857143],\n",
       " [29.082993197, 29.768707483]]"
      ]
     },
     "execution_count": 46,
     "metadata": {},
     "output_type": "execute_result"
    }
   ],
   "source": [
    "cluster_segments = []\n",
    "segments1 = segments_list[0]\n",
    "segments2 = segments_list[1]\n",
    "for ind1, ind2 in clusters:\n",
    "    start = min(segments1[ind1][0], segments2[ind2][0])\n",
    "    stop = max(segments1[ind1][1], segments2[ind2][1])\n",
    "    cluster_segments.append([start, stop])\n",
    "print(cluster_segments)\n",
    "ind = len(cluster_segments)-2\n",
    "while ind >= 0:\n",
    "    if cluster_segments[ind][1] >= cluster_segments[ind+1][0]:\n",
    "        cluster_segments[ind][1] = cluster_segments[ind+1][1]\n",
    "        del cluster_segments[ind+1]\n",
    "    ind = ind - 1    \n",
    "cluster_segments"
   ]
  },
  {
   "cell_type": "code",
   "execution_count": null,
   "id": "274367a6",
   "metadata": {},
   "outputs": [],
   "source": []
  }
 ],
 "metadata": {
  "kernelspec": {
   "display_name": "Python 3 (ipykernel)",
   "language": "python",
   "name": "python3"
  },
  "language_info": {
   "codemirror_mode": {
    "name": "ipython",
    "version": 3
   },
   "file_extension": ".py",
   "mimetype": "text/x-python",
   "name": "python",
   "nbconvert_exporter": "python",
   "pygments_lexer": "ipython3",
   "version": "3.7.13"
  }
 },
 "nbformat": 4,
 "nbformat_minor": 5
}
