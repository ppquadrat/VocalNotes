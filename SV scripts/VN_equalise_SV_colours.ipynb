{
 "cells": [
  {
   "cell_type": "code",
   "execution_count": 338,
   "id": "ea77c390",
   "metadata": {},
   "outputs": [],
   "source": [
    "import numpy as np\n",
    "import pandas as pd\n",
    "from os.path import join as joinpath"
   ]
  },
  {
   "cell_type": "code",
   "execution_count": 339,
   "id": "bdc97aef",
   "metadata": {},
   "outputs": [],
   "source": [
    "path = \"/Users/polinap/Yandex.Disk.localized/RESEARCH_RU/VOCAL_NOTES_PROJECT/RUSSIAN/ANALYSIS/\"\n",
    "song = \"Da_po_zoriushke_1\"\n",
    "transcriber_list = [\"PP\", \"OV\"]\n",
    "pitches_fileext_list = [\"notes\", \"segments\", \"changed_pitches\"]\n",
    "cents_fileext_list = [\"notes_cents_tc351.84\", \"segments_cents_tc351.84\", \"changed_cents\"]\n",
    "divider = \"__\""
   ]
  },
  {
   "cell_type": "code",
   "execution_count": 340,
   "id": "a54f375a",
   "metadata": {},
   "outputs": [],
   "source": [
    "def read_from_csv(notespath):\n",
    "    notes = pd.read_csv(notespath, header=None) # doesn't read headers\n",
    "\n",
    "    # remove columns beyond the first three\n",
    "    if len(notes.columns) > 3:\n",
    "        notes = notes.iloc[:,:3]\n",
    "\n",
    "    # remove headers\n",
    "    if notes.iloc[0,0]==\"TIME\":\n",
    "        notes = notes.iloc[1:,:]\n",
    "        notes.reset_index(drop=True, inplace=True)\n",
    "\n",
    "    notes.columns = ['TIME', 'VALUE', 'DURATION']\n",
    "    \n",
    "    notes['VALUE'] = notes['VALUE'].astype(float)\n",
    "    if all(notes['VALUE']%1==0):        # all integers\n",
    "        notes['VALUE'] = notes['VALUE'].astype(int)\n",
    "\n",
    "    return notes"
   ]
  },
  {
   "cell_type": "code",
   "execution_count": 344,
   "id": "0bfc2e03",
   "metadata": {},
   "outputs": [],
   "source": [
    "def add_maxmin_to_files(notespath_list):\n",
    "    notes_list = []\n",
    "    concat_list = []\n",
    "    for notespath in notespath_list:\n",
    "        notes = read_from_csv(notespath)\n",
    "        notes_list.append(notes)\n",
    "        concat_list.append(notes['VALUE'].astype(float))\n",
    "\n",
    "    # combine the pitches of all transcriptions, find max and min values\n",
    "    df = pd.concat(concat_list, axis=1)\n",
    "    array = df.to_numpy()\n",
    "\n",
    "    mymax = np.nanmax(array)\n",
    "    mymin = np.nanmin(array)\n",
    "\n",
    "    # add max and min values at the start of each transcription\n",
    "    for notes in notes_list:\n",
    "        notes.loc[-2] = [0.001, mymax, 0.001]\n",
    "        notes.loc[-1] = [0.002, mymin, 0.001]\n",
    "        notes.index = notes.index + 2 \n",
    "        notes.sort_index(inplace=True)\n",
    "        if all(notes['VALUE']%1==0): \n",
    "            notes['VALUE'] = notes['VALUE'].astype(int)\n",
    "        else: \n",
    "            notes['VALUE'] = notes['VALUE'].astype(float)\n",
    "        \n",
    "    # save\n",
    "    for notes, notespath in zip(notes_list, notespath_list):\n",
    "        notes.to_csv(notespath, index = False)"
   ]
  },
  {
   "cell_type": "code",
   "execution_count": 346,
   "id": "1b1054e4",
   "metadata": {},
   "outputs": [
    {
     "name": "stdout",
     "output_type": "stream",
     "text": [
      "          TIME    VALUE     DURATION\n",
      "0        0.001  361.985        0.001\n",
      "1        0.002  236.258        0.001\n",
      "2  0.685714286  314.455  0.690793651\n",
      "3  1.442539683  237.279  0.177777778\n",
      "4  1.620317460  236.325  0.391111111\n",
      "          TIME    VALUE     DURATION\n",
      "0        0.001  361.985        0.001\n",
      "1        0.002  236.258        0.001\n",
      "2  0.685714286  314.455  0.690793651\n",
      "3  1.442539683  237.279  0.177777778\n",
      "4   1.62031746  236.325  0.391111111\n",
      "          TIME    VALUE     DURATION\n",
      "0        0.001  361.985        0.001\n",
      "1        0.002  236.258        0.001\n",
      "2  2.011428571  341.268  0.421587302\n",
      "3  2.438095238  298.403  0.126984127\n",
      "4  3.239183673  341.747  0.269206349\n",
      "          TIME    VALUE     DURATION\n",
      "0        0.001  361.985        0.001\n",
      "1        0.002  236.258        0.001\n",
      "2  0.757551020  314.404  0.635646259\n",
      "3  1.469387755  237.391  0.191564626\n",
      "4  1.660952381  236.258  0.398367347\n",
      "          TIME    VALUE     DURATION\n",
      "0        0.001  361.985        0.001\n",
      "1        0.002  236.258        0.001\n",
      "2  0.748843537  314.404  0.635646259\n",
      "3  1.460680272  237.391  0.191564626\n",
      "4  1.652244898  236.258  0.398367347\n",
      "          TIME    VALUE     DURATION\n",
      "0        0.001  361.985        0.001\n",
      "1        0.002  236.258        0.001\n",
      "2  2.877823129  286.355  0.396190476\n",
      "3  3.691972789  341.796  0.306938776\n",
      "4  4.090340136  238.584  0.261224490\n"
     ]
    }
   ],
   "source": [
    "# adjust pitches files\n",
    "notespath_list = []\n",
    "for transcriber in transcriber_list:\n",
    "    for fileext in pitches_fileext_list:\n",
    "        filename = song + divider + transcriber + divider + fileext + '.csv'\n",
    "        notespath = joinpath(path,song,transcriber,filename)\n",
    "        notespath_list.append(notespath)\n",
    "        \n",
    "add_maxmin_to_files(notespath_list)"
   ]
  },
  {
   "cell_type": "code",
   "execution_count": 347,
   "id": "1777c421",
   "metadata": {},
   "outputs": [
    {
     "name": "stdout",
     "output_type": "stream",
     "text": [
      "          TIME  VALUE     DURATION\n",
      "0        0.001     49        0.001\n",
      "1        0.002   -690        0.001\n",
      "2  0.685714286   -195  0.690793651\n",
      "3  1.442539683   -682  0.177777778\n",
      "4  1.620317460   -689  0.391111111\n",
      "          TIME  VALUE     DURATION\n",
      "0        0.001     49        0.001\n",
      "1        0.002   -690        0.001\n",
      "2  0.685714286   -194  0.690793651\n",
      "3  1.442539683   -682  0.177777778\n",
      "4   1.62031746   -689  0.391111111\n",
      "          TIME  VALUE     DURATION\n",
      "0        0.001     49        0.001\n",
      "1        0.002   -690        0.001\n",
      "2  2.016507937    -53  0.421587302\n",
      "3  2.443174603   -285  0.126984127\n",
      "4  3.245714286    -50  0.269206349\n",
      "          TIME  VALUE     DURATION\n",
      "0        0.001     49        0.001\n",
      "1        0.002   -690        0.001\n",
      "2  0.757551020   -195  0.635646259\n",
      "3  1.469387755   -681  0.191564626\n",
      "4  1.660952381   -690  0.398367347\n",
      "          TIME  VALUE     DURATION\n",
      "0        0.001     49        0.001\n",
      "1        0.002   -690        0.001\n",
      "2  0.748843537   -195  0.635646259\n",
      "3  1.460680272   -681  0.191564626\n",
      "4  1.652244898   -689  0.398367347\n",
      "          TIME  VALUE     DURATION\n",
      "0        0.001     49        0.001\n",
      "1        0.002   -690        0.001\n",
      "2  2.864761905   -357  0.004353741\n",
      "3  3.271836735    -50  0.259047619\n",
      "4  3.683265306   -672  0.306938776\n"
     ]
    }
   ],
   "source": [
    "# adjust cents files \n",
    "notespath_list = []\n",
    "for transcriber in transcriber_list:\n",
    "    for fileext in cents_fileext_list:\n",
    "        filename = song + divider + transcriber + divider + fileext + '.csv'\n",
    "        notespath = joinpath(path,song,transcriber,filename)\n",
    "        notespath_list.append(notespath)\n",
    "        \n",
    "add_maxmin_to_files(notespath_list)"
   ]
  },
  {
   "cell_type": "code",
   "execution_count": 307,
   "id": "9b953833",
   "metadata": {},
   "outputs": [],
   "source": []
  },
  {
   "cell_type": "code",
   "execution_count": 308,
   "id": "147031be",
   "metadata": {},
   "outputs": [],
   "source": [
    "\n"
   ]
  },
  {
   "cell_type": "code",
   "execution_count": null,
   "id": "ffe2bb2d",
   "metadata": {},
   "outputs": [],
   "source": []
  }
 ],
 "metadata": {
  "kernelspec": {
   "display_name": "Python 3 (ipykernel)",
   "language": "python",
   "name": "python3"
  },
  "language_info": {
   "codemirror_mode": {
    "name": "ipython",
    "version": 3
   },
   "file_extension": ".py",
   "mimetype": "text/x-python",
   "name": "python",
   "nbconvert_exporter": "python",
   "pygments_lexer": "ipython3",
   "version": "3.7.13"
  }
 },
 "nbformat": 4,
 "nbformat_minor": 5
}
